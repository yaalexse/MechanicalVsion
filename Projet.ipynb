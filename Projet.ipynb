{
 "cells": [
  {
   "cell_type": "markdown",
   "metadata": {},
   "source": [
    "**Partie 2**"
   ]
  },
  {
   "cell_type": "code",
   "execution_count": 11,
   "metadata": {},
   "outputs": [
    {
     "name": "stdout",
     "output_type": "stream",
     "text": [
      "[[1.73674041e+03 0.00000000e+00 6.42423055e+02]\n",
      " [0.00000000e+00 1.73591242e+03 4.84957603e+02]\n",
      " [0.00000000e+00 0.00000000e+00 1.00000000e+00]]\n",
      "[[-0.21643089  0.17193363  0.00062022  0.00069881  0.0741379 ]]\n"
     ]
    }
   ],
   "source": [
    "import numpy as np\n",
    "from matplotlib import pyplot as plt\n",
    "import cv2 as cv\n",
    "import glob\n",
    "\n",
    "# B1 Calibration\n",
    "import numpy\n",
    "import cv2\n",
    "from cv2 import aruco\n",
    "import pickle\n",
    "import glob\n",
    "# ChAruco board variables\n",
    "CHARUCOBOARD_ROWCOUNT = 6\n",
    "CHARUCOBOARD_COLCOUNT = 10\n",
    "ARUCO_DICT = aruco.Dictionary_get(aruco.DICT_5X5_1000)\n",
    "\n",
    "# Create constants to be passed into OpenCV and Aruco methods\n",
    "CHARUCO_BOARD = aruco.CharucoBoard_create(\n",
    "        squaresX=CHARUCOBOARD_COLCOUNT,\n",
    "        squaresY=CHARUCOBOARD_ROWCOUNT,\n",
    "        squareLength=0.04,\n",
    "        markerLength=0.02,\n",
    "        dictionary=ARUCO_DICT)\n",
    "\n",
    "# Create the arrays and variables we'll use to store info like corners and IDs from images processed\n",
    "corners_all = [] # Corners discovered in all images processed\n",
    "ids_all = [] # Aruco ids corresponding to corners discovered\n",
    "image_size = None # Determined at runtime\n",
    "images = glob.glob('C:/Users/yadrina/Downloads/B1/Calibration_B1/Intrinsic/*.tiff')\n",
    "\n",
    "\n",
    "for iname in images:\n",
    "    # Open the image\n",
    "    img = cv2.imread(iname)\n",
    "    # Grayscale the image\n",
    "    gray = cv2.cvtColor(img, cv2.COLOR_BGR2GRAY)\n",
    "\n",
    "    # Find aruco markers in the query image\n",
    "    corners, ids, _ = aruco.detectMarkers(\n",
    "            image=gray,\n",
    "            dictionary=ARUCO_DICT)\n",
    "\n",
    "    # Outline the aruco markers found in our query image\n",
    "    img = aruco.drawDetectedMarkers(\n",
    "            image=img, \n",
    "            corners=corners)\n",
    "\n",
    "    # Get charuco corners and ids from detected aruco markers\n",
    "    response, charuco_corners, charuco_ids = aruco.interpolateCornersCharuco(\n",
    "            markerCorners=corners,\n",
    "            markerIds=ids,\n",
    "            image=gray,\n",
    "            board=CHARUCO_BOARD)\n",
    "\n",
    "    # If a Charuco board was found, let's collect image/corner points\n",
    "    # Requiring at least 20 squares\n",
    "    if response > 20:\n",
    "        # Add these corners and ids to our calibration arrays\n",
    "        corners_all.append(charuco_corners)\n",
    "        ids_all.append(charuco_ids)\n",
    "        \n",
    "        # Draw the Charuco board we've detected to show our calibrator the board was properly detected\n",
    "        img = aruco.drawDetectedCornersCharuco(\n",
    "                image=img,\n",
    "                charucoCorners=charuco_corners,\n",
    "                charucoIds=charuco_ids)\n",
    "       \n",
    "        # If our image size is unknown, set it now\n",
    "        if not image_size:\n",
    "            image_size = gray.shape[::-1]\n",
    "    \n",
    "        # Reproportion the image, maxing width or height at 1000\n",
    "        proportion = max(img.shape) / 1000.0\n",
    "        img = cv2.resize(img, (int(img.shape[1]/proportion), int(img.shape[0]/proportion)))\n",
    "        # Pause to display each image, waiting for key press\n",
    "        cv2.imshow('Charuco board', img)\n",
    "        cv2.waitKey(0)\n",
    "    else:\n",
    "        print(\"Not able to detect a charuco board in image: {}\".format(iname))\n",
    "\n",
    "# Destroy any open CV windows\n",
    "cv2.destroyAllWindows()\n",
    "\n",
    "\n",
    "# Make sure at least one image was found\n",
    "if len(images) < 1:\n",
    "    # Calibration failed because there were no images, warn the user\n",
    "    print(\"Calibration was unsuccessful. No images of charucoboards were found. Add images of charucoboards and use or alter the naming conventions used in this file.\")\n",
    "    # Exit for failure\n",
    "    exit()\n",
    "\n",
    "# Make sure we were able to calibrate on at least one charucoboard by checking\n",
    "# if we ever determined the image size\n",
    "if not image_size:\n",
    "    # Calibration failed because we didn't see any charucoboards of the PatternSize used\n",
    "    print(\"Calibration was unsuccessful. We couldn't detect charucoboards in any of the images supplied. Try changing the patternSize passed into Charucoboard_create(), or try different pictures of charucoboards.\")\n",
    "    # Exit for failure\n",
    "    exit()\n",
    "\n",
    "\n",
    "calibration, cameraMatrix, distCoeffs, rvecs, tvecs = aruco.calibrateCameraCharuco(\n",
    "        charucoCorners=corners_all,\n",
    "        charucoIds=ids_all,\n",
    "        board=CHARUCO_BOARD,\n",
    "        imageSize=image_size,\n",
    "        cameraMatrix=None,\n",
    "        distCoeffs=None)\n",
    "\n",
    "# Print matrix and distortion coefficient to the console\n",
    "print(cameraMatrix)\n",
    "print(distCoeffs)\n"
   ]
  },
  {
   "cell_type": "code",
   "execution_count": 12,
   "metadata": {},
   "outputs": [
    {
     "data": {
      "text/plain": [
       "True"
      ]
     },
     "execution_count": 12,
     "metadata": {},
     "output_type": "execute_result"
    }
   ],
   "source": [
    "h, w = img.shape[:2] # image size\n",
    "newcameramtx, roi = cv.getOptimalNewCameraMatrix(cameraMatrix, distCoeffs, (w,h), 1, (w,h))\n",
    "# read image and convert into gray scale\n",
    "img = cv.imread(images[1])\n",
    "# undistort\n",
    "dst = cv.undistort(img, cameraMatrix, distCoeffs, None, newcameramtx)\n",
    "# crop the image\n",
    "x, y, w, h = roi\n",
    "dst = dst[y:y+h, x:x+w]\n",
    "# show undistorted image\n",
    "cv.imshow('undistorted image', dst)\n",
    "cv.imshow('img_distorted',img)\n",
    "cv.waitKey(0)\n",
    "cv.destroyAllWindows()\n",
    "# save image\n",
    "cv.imwrite('undistorted.png', dst)"
   ]
  },
  {
   "cell_type": "markdown",
   "metadata": {},
   "source": [
    "# Détection des cercles sur les images avec MSER"
   ]
  },
  {
   "cell_type": "code",
   "execution_count": 16,
   "metadata": {},
   "outputs": [],
   "source": [
    "import cv2 as cv2\n",
    "import numpy as np\n",
    "\n",
    "\n",
    "#------------------------------------------------#\n",
    "#------------- 1. Read image ---------------#\n",
    "#------------------------------------------------#\n",
    "## 1.1 Read image as gray image\n",
    "img = cv2.imread('./B1/GM8_B1/Basler_acA1300-200um__23048060__20240118_170811435_1560.tiff',cv2.IMREAD_GRAYSCALE)\n",
    "\n",
    "#------------------------------------------------#\n",
    "#------------- 2. MSER detection ---------#\n",
    "#------------------------------------------------#\n",
    "## 2.1 Create MSER object\n",
    "mser = cv2.MSER_create()\n",
    "## 2.2 Detect MSER regions\n",
    "regions,_ = mser.detectRegions(img)"
   ]
  },
  {
   "cell_type": "code",
   "execution_count": 17,
   "metadata": {},
   "outputs": [],
   "source": [
    "## 2.3 Draw MSER regions\n",
    "# cv2.convexHull finds the convex hull of a 2D point set\n",
    "# save the list of numpy array of contours a variable ‘hulls’\n",
    "hulls = [cv2.convexHull(p.reshape(-1, 1, 2)) for p in regions]\n",
    "# create a copy of the original image\n",
    "clone = img.copy()\n",
    "clone = cv2.cvtColor(img, cv2.COLOR_GRAY2RGB)\n",
    "# draw contours on the image.\n",
    "cv2.polylines(clone, hulls, 1, (0, 255, 0))\n",
    "# show and save the image\n",
    "cv2.namedWindow('all MSER', cv2.WINDOW_NORMAL)\n",
    "cv2.imshow('all MSER', clone) # show the image\n",
    "cv2.imwrite('all MSER.jpg',clone) # save the image\n",
    "cv2.waitKey()\n",
    "cv2.destroyAllWindows()"
   ]
  },
  {
   "cell_type": "code",
   "execution_count": 18,
   "metadata": {},
   "outputs": [],
   "source": [
    "def circularity_check(img, regions, hulls):\n",
    "\n",
    " ## Circularity Check\n",
    "\n",
    " # create two empty lists to store interesting regions\n",
    "     Regions = []\n",
    "     Contours = []\n",
    "\n",
    " # iterate over regions and contours\n",
    " # zip() returns an iterator of tuples based on the iterable objects\n",
    " # enumerate() method adds a counter to an iterable and\n",
    " # returns it in a form of enumerating object\n",
    "     for index, (region, cnt) in enumerate(zip(regions, hulls)):\n",
    "         area = cv2. contourArea(cnt) # computes the area of the contours\n",
    "         perimeter = cv2.arcLength(cnt,True) # computes contours perimeter\n",
    "         circularity = 4*np.pi*area/perimeter**2 # circularity index\n",
    "         if circularity > 0.93:\n",
    "            if(len(cnt) < 14):\n",
    "                Regions.append(region) # interesting regions\n",
    "                Contours.append(cnt) # interesting contours\n",
    "\n",
    " ## Plot circular MSER\n",
    "\n",
    " # create a copy of the original image and convert it in gray image\n",
    "     clone = img.copy()\n",
    "     clone = cv2.cvtColor(img, cv2.COLOR_GRAY2RGB)\n",
    "\n",
    " # draw MSER\n",
    "     cv2.polylines(clone, Contours, 1, (0, 255, 0))\n",
    "\n",
    "     cv2.namedWindow('circular MSER', cv2.WINDOW_NORMAL)\n",
    "     cv2.imshow('circular MSER', clone)\n",
    "     cv2.imwrite('circular MSER.jpg',clone) # write the image\n",
    " # close the image\n",
    "     cv2.waitKey()\n",
    "     cv2.destroyAllWindows()\n",
    "\n",
    "     return Regions, Contours, clone\n"
   ]
  },
  {
   "cell_type": "code",
   "execution_count": 19,
   "metadata": {},
   "outputs": [],
   "source": [
    "Regions_circ, Contours_circ, clone_circ = circularity_check(img, regions, hulls)"
   ]
  },
  {
   "cell_type": "code",
   "execution_count": 20,
   "metadata": {},
   "outputs": [],
   "source": [
    "def intensity_check(img, regions, hulls):\n",
    " ## Check on the pixel intensity\n",
    "\n",
    " # create three empty lists to store intereseting regions\n",
    " Regions = []\n",
    " Contours = []\n",
    " Centers = []\n",
    "\n",
    " # iterate over regions and contours\n",
    " for index, (region, cnt) in enumerate(zip(regions, hulls)):\n",
    "     M = cv2.moments(cnt) # calculate the image moments\n",
    "     center = int(M[\"m10\"]/M[\"m00\"]),int(M[\"m01\"]/M[\"m00\"]) # centroid (Cx, Cy)\n",
    "     bright = img[center[1],center[0]] # brightness of the center (expected white)\n",
    "     bright_mean = np.mean([img[p[1],p[0]] for p in region]) # mean brightness within a region\n",
    "     if bright >= 0:\n",
    "         Regions.append(region) # interesting regions\n",
    "         Contours.append(cnt) # interesting contours\n",
    "         Centers.append(center) # interesting centroids\n",
    "\n",
    " ## Plot selected MSER\n",
    "\n",
    " # create a copy of the original image\n",
    " clone = img.copy()\n",
    " clone = cv2.cvtColor(img, cv2.COLOR_GRAY2RGB)\n",
    "\n",
    " # draw and save MSER\n",
    " cv2.polylines(clone, Contours, 1, (0, 255, 0))\n",
    "\n",
    "\n",
    " cv2.namedWindow('selected MSER from intensity', cv2.WINDOW_NORMAL)\n",
    " cv2.imshow('selected MSER from intensity',clone)\n",
    " cv2.imwrite('selected MSER from intensity.jpg',clone)\n",
    " # close the image\n",
    " cv2.waitKey()\n",
    " cv2.destroyAllWindows()\n",
    "\n",
    " return Regions, Contours, Centers, clone"
   ]
  },
  {
   "cell_type": "code",
   "execution_count": 21,
   "metadata": {},
   "outputs": [],
   "source": [
    "Regions_int, Contours_int, Centers_int, clone_int = intensity_check(img, Regions_circ, Contours_circ)"
   ]
  },
  {
   "cell_type": "code",
   "execution_count": 22,
   "metadata": {},
   "outputs": [],
   "source": [
    "def duplicated_check(img, regions, cnt, centers):\n",
    " Box = []\n",
    " Box = [cv2.boundingRect(i) for i in cnt] # bounding box\n",
    " B = np.array(Box) # convert into array\n",
    " # create a list with 0 -> False in Boolean data type\n",
    " remove = np.zeros(B.shape[0], dtype=bool) # 0 is equal to False\n",
    "\n",
    " atol = 5 # tolerance\n",
    "\n",
    " # iterate over all boxes\n",
    " for i in range(B.shape[0]):\n",
    "\n",
    " # check if a box is similar to the others within a fixed\n",
    " # tolerance\n",
    "\n",
    " # np.isclose returns a boolean array (True or False)\n",
    " # where two arrays are element-wise equal within a tolerance\n",
    "     similar = np.isclose(B[i, :], B[(i + 1):, :], atol = atol)\n",
    "\n",
    " # check if a box is similar to another on both sides\n",
    "\n",
    " # np.all Test whether all array elements along a given axis\n",
    " # evaluate to True\n",
    "     equals = np.all(similar, axis=1)\n",
    "\n",
    " # Logical OR: True if either of the operands is true\n",
    "     remove[(i + 1):] = np.logical_or(remove[(i + 1):], equals)\n",
    "\n",
    " # np.where return elements chosen from x or y depending on condition\n",
    " # Logical NOT: True if operand is false\n",
    " index = np.where(np.logical_not(remove))\n",
    " Bbox = B[np.logical_not(remove)]\n",
    " # create three empty lists to store intereseting regions\n",
    " Regions = []\n",
    " Contours = []\n",
    " Centers = []\n",
    " Contours = [cnt[p] for p in index[0]]\n",
    " Regions = [regions[p] for p in index[0]]\n",
    " Centers = [centers[p] for p in index[0]]\n",
    "\n",
    " ## Plot selected MSER\n",
    "\n",
    " # create a copy of the original image\n",
    " clone = img.copy()\n",
    " clone = cv2.cvtColor(img, cv2.COLOR_GRAY2RGB)\n",
    "\n",
    " # draw MSER\n",
    " cv2.polylines(clone, Contours, 1, (0, 255, 0))\n",
    " cv2.namedWindow('duplicated MSER suppression', cv2.WINDOW_NORMAL)\n",
    " cv2.imshow('duplicated MSER suppression',clone)\n",
    " cv2.imwrite('duplicated MSER suppression.jpg',clone)\n",
    " # close the image\n",
    " cv2.waitKey()\n",
    " cv2.destroyAllWindows()\n",
    "\n",
    " return Regions, Contours, Centers, Bbox, clone\n"
   ]
  },
  {
   "cell_type": "code",
   "execution_count": 23,
   "metadata": {},
   "outputs": [],
   "source": [
    "Regions, Contours, Centers, Bbox, clone_sel = duplicated_check(img,Regions_int,Contours_int,Centers_int)"
   ]
  },
  {
   "cell_type": "code",
   "execution_count": 24,
   "metadata": {},
   "outputs": [
    {
     "name": "stdout",
     "output_type": "stream",
     "text": [
      "[(539, 727), (1137, 680), (614, 626), (704, 718), (474, 381), (620, 723), (929, 709), (36, 364), (30, 435), (741, 439), (933, 432), (885, 481), (847, 611), (860, 362), (531, 632), (691, 620), (1022, 510), (755, 525), (1196, 554), (678, 529), (1070, 424), (1138, 352), (1065, 686), (590, 447), (784, 713), (815, 436), (830, 521), (505, 741), (482, 502), (1093, 507), (863, 707), (600, 534), (14, 759), (522, 540), (27, 512), (1171, 466), (1232, 683), (990, 692), (666, 444), (969, 599), (770, 618), (24, 590), (1001, 427), (952, 514), (512, 452), (492, 598), (903, 573), (1042, 596), (18, 673)]\n"
     ]
    }
   ],
   "source": [
    "## 3.4 Evaluate mean centroid\n",
    "result_centroid = []\n",
    "temp = []\n",
    "for ind in Bbox:\n",
    " temp = []\n",
    " corner_min = np.array((ind[0],ind[1]))\n",
    " corner_max = np.array((ind[0]+ind[2],ind[1]+ind[3]))\n",
    "\n",
    " for centroid in Centers:\n",
    "     if ((np.array(centroid)<corner_max).all() and (np.array(centroid)>corner_min).all()):\n",
    "         temp.append(centroid)\n",
    " result_centroid.append(tuple(np.mean(temp,axis=0,dtype = int)))\n",
    "result_centroid = list(set(result_centroid))\n",
    "print(result_centroid)"
   ]
  },
  {
   "cell_type": "code",
   "execution_count": 25,
   "metadata": {},
   "outputs": [
    {
     "name": "stdout",
     "output_type": "stream",
     "text": [
      "[(14, 759), (505, 741), (539, 727), (620, 723), (704, 718), (784, 713), (929, 709), (863, 707), (990, 692), (1065, 686), (1232, 683), (1137, 680), (18, 673), (531, 632), (614, 626), (691, 620), (770, 618), (847, 611), (969, 599), (492, 598), (1042, 596), (24, 590), (903, 573), (1196, 554), (522, 540), (600, 534), (678, 529), (755, 525), (830, 521), (952, 514), (27, 512), (1022, 510), (1093, 507), (482, 502), (885, 481), (1171, 466), (512, 452), (590, 447), (666, 444), (741, 439), (815, 436), (30, 435), (933, 432), (1001, 427), (1070, 424), (474, 381), (36, 364), (860, 362), (1138, 352)]\n"
     ]
    }
   ],
   "source": [
    "result_centroid = sorted(result_centroid, key=lambda x: x[1], reverse=True)\n",
    "print(result_centroid)"
   ]
  },
  {
   "cell_type": "code",
   "execution_count": 26,
   "metadata": {},
   "outputs": [
    {
     "name": "stdout",
     "output_type": "stream",
     "text": [
      "49\n"
     ]
    }
   ],
   "source": [
    "#-----------------------------------------------------#\n",
    "#------------- 4. Results visualization ---------#\n",
    "#-----------------------------------------------------#\n",
    "## 4.1 Label selected MSER\n",
    "# create a copy of the image and convert it in gray image\n",
    "clone1 = img.copy()\n",
    "clone1 = cv2.cvtColor(img, cv2.COLOR_GRAY2RGB)\n",
    "## set text font\n",
    "font = cv2.FONT_HERSHEY_SIMPLEX\n",
    "fontScale = 1\n",
    "color = (0, 0, 255)\n",
    "thickness = 2\n",
    "nombre=0\n",
    "## put number on the image\n",
    "for i,c in enumerate(result_centroid):\n",
    " nombre+=1\n",
    " number = str(i+1)\n",
    " cv2.putText(clone1,number,c,font,fontScale,color,thickness)\n",
    "## 4.2 Draw contours\n",
    "print (nombre)\n",
    "cv2.polylines(clone1, Contours, 1, (0, 255, 0))\n",
    "cv2.namedWindow('selected MSER', cv2.WINDOW_NORMAL)\n",
    "cv2.imshow('selected MSER',clone1) # show the image\n",
    "cv2.imwrite('selected MSER.jpg',clone1) # save the image\n",
    "# close the image\n",
    "cv2.waitKey()\n",
    "cv2.destroyAllWindows()"
   ]
  },
  {
   "cell_type": "code",
   "execution_count": null,
   "metadata": {},
   "outputs": [],
   "source": []
  }
 ],
 "metadata": {
  "kernelspec": {
   "display_name": "Python 3",
   "language": "python",
   "name": "python3"
  },
  "language_info": {
   "codemirror_mode": {
    "name": "ipython",
    "version": 3
   },
   "file_extension": ".py",
   "mimetype": "text/x-python",
   "name": "python",
   "nbconvert_exporter": "python",
   "pygments_lexer": "ipython3",
   "version": "3.7.3"
  }
 },
 "nbformat": 4,
 "nbformat_minor": 2
}
